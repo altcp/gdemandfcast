{
 "metadata": {
  "language_info": {
   "codemirror_mode": {
    "name": "ipython",
    "version": 3
   },
   "file_extension": ".py",
   "mimetype": "text/x-python",
   "name": "python",
   "nbconvert_exporter": "python",
   "pygments_lexer": "ipython3",
   "version": 3
  },
  "orig_nbformat": 2
 },
 "nbformat": 4,
 "nbformat_minor": 2,
 "cells": [
  {
   "source": [
    "import gc\n",
    "\n",
    "import src.functions as f\n"
   ],
   "cell_type": "markdown",
   "metadata": {}
  },
  {
   "cell_type": "code",
   "execution_count": null,
   "metadata": {},
   "outputs": [],
   "source": [
    "def main():\n",
    "\n",
    "    #UI\n",
    "    print(\"Welcome to Automated Door Opening System (ADOS).\")\n",
    "    u1_q1()\n",
    "    print(\" \")\n",
    "    print(\" \")\n",
    " \n",
    "    return None\n",
    "    "
   ]
  },
  {
   "cell_type": "code",
   "execution_count": null,
   "metadata": {},
   "outputs": [],
   "source": [
    "def u1_q1():\n",
    "\n",
    "    ans_one = 0\n",
    "\n",
    "    while(ans_one < 1):\n",
    "\n",
    "\n",
    "        print(\"ADOS: Would you like to take a test picture? \")\n",
    "        input_ans_one = input(\"Enter Yes (1) / No (2) : \")\n",
    "        \n",
    "        try:         \n",
    "            ans_one = int(input_ans_one)\n",
    "        except:\n",
    "            ans_one = 0\n",
    "\n",
    "\n",
    "        if (ans_one == 1):\n",
    "\n",
    "            #Button Integration.\n",
    "            #Lionel, are you able to help ?\n",
    "        \n",
    "            picture_taken = f.run_camera()\n",
    "            \n",
    "\n",
    "            if(picture_taken == True):\n",
    "                \n",
    "                try:\n",
    "\n",
    "                    if (f.run_model(picture_taken) == True):\n",
    "                        f.clean_up()\n",
    "                        print(\" \")\n",
    "                        print(\" \")\n",
    "                        print(\"Thank You. This completes our Demo. \")\n",
    "\n",
    "                except:\n",
    "                    print(\"ADOS: Error. Kindly Contact Developer. \")\n",
    "        \n",
    "        \n",
    "        elif(ans_one == 2):\n",
    "            print(\" \")\n",
    "            print(\" \")\n",
    "            print(\" \")\n",
    "        \n",
    "        else:\n",
    "            print(\"Please enter 1 or 2\")\n",
    "            ans_one = 0\n",
    "\n",
    "    return None"
   ]
  },
  {
   "cell_type": "code",
   "execution_count": null,
   "metadata": {},
   "outputs": [],
   "source": [
    "if __name__ == \"__main__\":\n",
    "    \n",
    "    main()\n",
    "    gc.collect()\n",
    "    quit()"
   ]
  }
 ]
}