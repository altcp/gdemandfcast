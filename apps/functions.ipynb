{
 "metadata": {
  "language_info": {
   "codemirror_mode": {
    "name": "ipython",
    "version": 3
   },
   "file_extension": ".py",
   "mimetype": "text/x-python",
   "name": "python",
   "nbconvert_exporter": "python",
   "pygments_lexer": "ipython3",
   "version": 3
  },
  "orig_nbformat": 2
 },
 "nbformat": 4,
 "nbformat_minor": 2,
 "cells": [
  {
   "cell_type": "code",
   "execution_count": null,
   "metadata": {},
   "outputs": [],
   "source": [
    "import os\n",
    "import time\n",
    "import yaml\n",
    "import datetime\n",
    "import investpy\n",
    "import numpy as np\n",
    "import pandas as pd"
   ]
  },
  {
   "cell_type": "code",
   "execution_count": null,
   "metadata": {},
   "outputs": [],
   "source": [
    "#Load Configuration\n",
    "with open('./config/config.yml') as file:\n",
    "    config = yaml.safe_load(file)"
   ]
  },
  {
   "cell_type": "code",
   "execution_count": null,
   "metadata": {},
   "outputs": [],
   "source": [
    "# Set Random Seed\n",
    "ID = config['settings']['random_seed_ID']\n",
    "np.random.seed(ID)"
   ]
  },
  {
   "cell_type": "code",
   "execution_count": null,
   "metadata": {},
   "outputs": [],
   "source": [
    "def get_eda(dashboard_required=False, univariate=True):\n",
    "    \n",
    "    TD = config['settings']['tech_disruptor']\n",
    "\n",
    "    if (TD == True):\n",
    "        features, target, bins = process_data(dashboard_required, univariate, TD)\n",
    "    else:\n",
    "        print(\" \")\n",
    "        print(\" \")\n",
    "        print(\"Sell Side Quantative Research (SSQR)\")\n",
    "        print(\"Next Business Day Outlook, 0.0.1\")\n",
    "        features, target, bins = process_data(dashboard_required, univariate)\n",
    "    \n",
    "    return features, target, bins"
   ]
  },
  {
   "cell_type": "code",
   "execution_count": null,
   "metadata": {},
   "outputs": [],
   "source": [
    "def process_data(display_charts, univariate, tech_disruptor=False):\n",
    "\n",
    "    #Scope Relevant Data\n",
    "    td = pd.Timestamp(round(datetime.datetime.now().Timestamp(), 0), unit='s')\n",
    "    end = td.replace(hour=0, minute=0, second=0, microsecond=0)\n",
    "    start = end - pd.tseries.offsets.BusinessDay(n=181)\n",
    "    \n",
    "    \n",
    "    if (tech_disruptor == False):\n",
    "        \n",
    "        country = config['configuration']['default_country_of_exchange']\n",
    "        symbol = config['configuration']['default_stock_symbol']\n",
    "        target = config['configuration']['default_stock_price']\n",
    "\n",
    "        df = investpy.get_stock_historical_data(stock=symbol, country=country, from_date=start, t0_date=end)\n",
    "    \n",
    "    else:\n",
    "        \n",
    "        conn = sqlite3.connect(config['settings']['default_country_of_exchange'])\n",
    "        query = pd.read_sql_query('SELECT * FROM [CDB-QUERY]', conn)\n",
    "        country = query['country']\n",
    "        symbol = query['symbol']\n",
    "\n",
    "        df = investpy.get_stock_histroical_data(stock=symbol, country=country, from_date=start, to_date=end)\n",
    "\n",
    "    return fit_x, fit_y, fit_bins\n"
   ]
  }
 ]
}