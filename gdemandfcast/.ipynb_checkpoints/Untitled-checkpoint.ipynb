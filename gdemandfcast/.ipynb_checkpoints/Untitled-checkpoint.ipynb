{
 "cells": [
  {
   "cell_type": "code",
   "execution_count": null,
   "id": "87a9c2b6-f826-446f-9621-c1c27fef4659",
   "metadata": {},
   "outputs": [],
   "source": [
    "import gc\n",
    "import math\n",
    "import warnings\n",
    "\n",
    "import sklearn.gaussian_process as gp\n",
    "import matplotlib.pyplot as plt\n",
    "import keras_tuner as kt\n",
    "import numpy as np\n",
    "import pandas as pd\n",
    "import pmdarima as pm\n",
    "import tensorflow as tf\n",
    "\n",
    "from scipy import stats\n",
    "from sklearn.svm import SVR\n",
    "from tensorflow import keras\n",
    "from xgboost import XGBRegressor\n",
    "from sklearn import model_selection\n",
    "from sklearn.pipeline import Pipeline\n",
    "from sklearn.neural_network import MLPRegressor\n",
    "from sklearn.metrics import mean_absolute_percentage_error\n",
    "from sklearn.model_selection import GridSearchCV, train_test_split\n",
    "from sklearn.preprocessing import MinMaxScaler, RobustScaler, StandardScaler"
   ]
  },
  {
   "cell_type": "code",
   "execution_count": null,
   "id": "05c04a0d-b174-4e55-9489-db880b58feec",
   "metadata": {},
   "outputs": [],
   "source": [
    "class preprocessing:\n",
    "    def __init__(self, df, target=\"Y\", p=7, create_testset=False):\n",
    "        self.df = df\n",
    "        self.target = target\n",
    "        self.p = p  # Size of Bucket (e.g., Week = 7 or 5, Lag)\n",
    "        self.create_testset = create_testset\n",
    "\n",
    "    def run_univariate(self):\n",
    "\n",
    "        df1 = pd.DataFrame()\n",
    "\n",
    "        if self.create_testset == False:\n",
    "            P = self.p + 1\n",
    "        else:\n",
    "            P = self.p\n",
    "\n",
    "        for i in range(P):\n",
    "            if i == 0:\n",
    "                if P > self.p:\n",
    "                    df1[\"Y\"] = self.df[self.target]\n",
    "                else:\n",
    "                    df1[\"X0\"] = self.df[self.target]\n",
    "            else:\n",
    "                column_name = \"X\" + str(i)\n",
    "                df1[column_name] = self.df[self.target].shift(i)\n",
    "\n",
    "        return df1\n",
    "\n",
    "    def create_frequency(self):\n",
    "\n",
    "        df1 = pd.DataFrame()\n",
    "        df1 = self.df.groupby(np.arrange(len(self.df)) // self.p).sum()\n",
    "        df1.index = self.df.loc[1 :: self.p, self.target]\n",
    "\n",
    "        return df1"
   ]
  },
  {
   "cell_type": "code",
   "execution_count": null,
   "id": "766e637b-6a01-4a43-9012-e96330bfe807",
   "metadata": {},
   "outputs": [],
   "source": []
  }
 ],
 "metadata": {
  "kernelspec": {
   "display_name": "Python 3",
   "language": "python",
   "name": "python3"
  },
  "language_info": {
   "codemirror_mode": {
    "name": "ipython",
    "version": 3
   },
   "file_extension": ".py",
   "mimetype": "text/x-python",
   "name": "python",
   "nbconvert_exporter": "python",
   "pygments_lexer": "ipython3",
   "version": "3.9.5"
  }
 },
 "nbformat": 4,
 "nbformat_minor": 5
}
